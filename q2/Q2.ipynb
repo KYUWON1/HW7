{
 "cells": [
  {
   "cell_type": "code",
   "execution_count": 13,
   "id": "c6ef3cca",
   "metadata": {},
   "outputs": [
    {
     "name": "stdout",
     "output_type": "stream",
     "text": [
      "doc1: 0.87\n",
      "doc2: 0.58\n",
      "doc3: 1.00\n"
     ]
    }
   ],
   "source": [
    "import numpy as np\n",
    "\n",
    "docs = np.array([[1,1,0,1,0,1],[1,1,1,0,1,0],[1,1,0,1,0,0]])\n",
    "query = np.array([1,1,0,1,0,0])\n",
    "\n",
    "#내적 계산\n",
    "dot_product = np.dot(docs, query)\n",
    "\n",
    "# 벡터의 크기 계산\n",
    "docs_size = np.linalg.norm(docs, axis=1)\n",
    "query_size = np.linalg.norm(query)\n",
    "\n",
    "# 코사인 유사도 계산\n",
    "cos_sim = dot_product / (docs_size * query_size)\n",
    "\n",
    "for i,sim in enumerate(cos_sim):\n",
    "    print(f\"doc{i+1}: {sim:.2f}\")"
   ]
  },
  {
   "cell_type": "code",
   "execution_count": null,
   "id": "8a3fb0cf",
   "metadata": {},
   "outputs": [],
   "source": []
  }
 ],
 "metadata": {
  "kernelspec": {
   "display_name": "Python 3 (ipykernel)",
   "language": "python",
   "name": "python3"
  },
  "language_info": {
   "codemirror_mode": {
    "name": "ipython",
    "version": 3
   },
   "file_extension": ".py",
   "mimetype": "text/x-python",
   "name": "python",
   "nbconvert_exporter": "python",
   "pygments_lexer": "ipython3",
   "version": "3.9.7"
  }
 },
 "nbformat": 4,
 "nbformat_minor": 5
}
