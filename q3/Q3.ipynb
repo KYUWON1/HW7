{
 "cells": [
  {
   "cell_type": "code",
   "execution_count": 11,
   "id": "a980312f",
   "metadata": {},
   "outputs": [
    {
     "name": "stdout",
     "output_type": "stream",
     "text": [
      "        unit price  number\n",
      "store1        1000      25\n",
      "store2         280     120\n",
      "store3         900      30 \n",
      "\n",
      "        unit price  number  total price\n",
      "store1        1000      25        25000\n",
      "store2         280     120        33600\n",
      "store3         900      30        27000 \n",
      "\n",
      "Top price store:\n",
      "         unit price  number  total price\n",
      "store2         280     120        33600\n",
      "store3         900      30        27000\n"
     ]
    }
   ],
   "source": [
    "import pandas as pd\n",
    "import numpy as np\n",
    "\n",
    "def main():\n",
    "\n",
    "    print(\"Hello, World!\")\n",
    "\n",
    "if __name__ == '__main__':\n",
    "\n",
    "    main()\n",
    "\n",
    "price=[1000,280,900]\n",
    "number = [25,120,30]\n",
    "df = pd.DataFrame({'unit price': price, 'number': number}, index=['store1', 'store2', 'store3'])\n",
    "print(df,\"\\n\")\n",
    "\n",
    "df['total price'] = df['unit price'] * df['number']\n",
    "print(df,\"\\n\")\n",
    "\n",
    "top_2 = df.nlargest(2, 'total price')\n",
    "\n",
    "print(\"Top price store:\\n\",top_2)"
   ]
  },
  {
   "cell_type": "code",
   "execution_count": null,
   "id": "5a5e7e46",
   "metadata": {},
   "outputs": [],
   "source": []
  }
 ],
 "metadata": {
  "kernelspec": {
   "display_name": "Python 3 (ipykernel)",
   "language": "python",
   "name": "python3"
  },
  "language_info": {
   "codemirror_mode": {
    "name": "ipython",
    "version": 3
   },
   "file_extension": ".py",
   "mimetype": "text/x-python",
   "name": "python",
   "nbconvert_exporter": "python",
   "pygments_lexer": "ipython3",
   "version": "3.9.7"
  }
 },
 "nbformat": 4,
 "nbformat_minor": 5
}
