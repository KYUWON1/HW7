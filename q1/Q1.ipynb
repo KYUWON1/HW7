{
 "cells": [
  {
   "cell_type": "code",
   "execution_count": 38,
   "id": "6993c3c1",
   "metadata": {},
   "outputs": [
    {
     "name": "stdout",
     "output_type": "stream",
     "text": [
      "Eigenvalues: [-0.37228132  5.37228132]\n",
      "Eigenvectors:\n",
      " [[-0.82456484 -0.41597356]\n",
      " [ 0.56576746 -0.90937671]]\n",
      "Determinant: -2\n",
      "Cross product: [-3  6 -3]\n",
      "Solution:\n",
      " [[-1.]\n",
      " [-4.]\n",
      " [ 3.]]\n"
     ]
    }
   ],
   "source": [
    "import numpy as np\n",
    "\n",
    "arr = np.array([[1,2],[3,4]])\n",
    "vec1 = np.arange(1,4)\n",
    "vec2 =np.arange(4,7)\n",
    "\n",
    "a = np.array([1,2,-2,2,1,-5,1,-4,1]).reshape(3,3)\n",
    "b = np.array([-15,-21,18]).reshape(3,1)\n",
    "\n",
    "eig_val, eig_vec = np.linalg.eig(arr)\n",
    "det = np.linalg.det(arr)\n",
    "cross_pro = np.cross(vec1,vec2)\n",
    "ans = np.linalg.solve(a, b)\n",
    "\n",
    "print(\"Eigenvalues:\",eig_val)\n",
    "print(\"Eigenvectors:\\n\",eig_vec)\n",
    "print(\"Determinant:\",int(det))\n",
    "print(\"Cross product:\",cross_pro)\n",
    "print(\"Solution:\\n\",ans)"
   ]
  },
  {
   "cell_type": "code",
   "execution_count": null,
   "id": "69c77195",
   "metadata": {},
   "outputs": [],
   "source": []
  },
  {
   "cell_type": "code",
   "execution_count": null,
   "id": "88fea45f",
   "metadata": {},
   "outputs": [],
   "source": []
  }
 ],
 "metadata": {
  "kernelspec": {
   "display_name": "Python 3 (ipykernel)",
   "language": "python",
   "name": "python3"
  },
  "language_info": {
   "codemirror_mode": {
    "name": "ipython",
    "version": 3
   },
   "file_extension": ".py",
   "mimetype": "text/x-python",
   "name": "python",
   "nbconvert_exporter": "python",
   "pygments_lexer": "ipython3",
   "version": "3.9.7"
  }
 },
 "nbformat": 4,
 "nbformat_minor": 5
}
